{
 "cells": [
  {
   "cell_type": "markdown",
   "metadata": {},
   "source": [
    "# Projet visi Proie-Prédateur\n",
    "\n",
    "Voici un résumé de l'avancement du projet\n",
    "\n",
    "Premièrement, définissons quelques règles que notre environnement vas suivre:\n",
    "\n",
    "- Lors du mouvement des entités, les proies ont la priorité de mouvement sur les prédateurs, c'est à dire qu'ils se déplacerons et effecturons leurs action avant les prédateurs.\n",
    "\n",
    "\n",
    "- Les entités rebondissent sur les paroies et entre elles en prendrons une autre direction.\n",
    "\n",
    "- Une proie ne se dirigeras pas sur une case contenant un prédateur\n",
    "\n",
    "- En conséquence si toutes les cases autour des proies sont occupés (par un prédateur ou d'autres proies), la proie ne se déplacera pas. Cela peut également s'appliquer au prédateur dans les cas les plus rares (si entouré d'autres prédateurs)\n",
    "\n",
    "- L'apparition se fais aléatoirement sur la grille, si plus de places, l'entité n'apparait pas\n",
    "\n",
    "- Priorité sur l'apparition (les proies ont la priorité)"
   ]
  },
  {
   "cell_type": "markdown",
   "metadata": {},
   "source": [
    "## Programme Principale\n",
    "\n",
    "Le programme principale est là ou toutes les entités présentées ci-dessous seront implémentés dans l'environnement"
   ]
  },
  {
   "cell_type": "raw",
   "metadata": {
    "vscode": {
     "languageId": "raw"
    }
   },
   "source": [
    "########## Pseudo code du programme principale ##########\n",
    "\n",
    "Définir les dimensions de l’environnement (largeur, longueur)\n",
    "\n",
    "Créer une grille `environnement` vide (remplie de 0 et de taille largeur x longueur)\n",
    "\n",
    "Créer une liste `tab_proie` contenant des objets Proie placés aléatoirement\n",
    "Créer une liste `tab_pred` contenant des objets Prédateur placés aléatoirement\n",
    "\n",
    "POUR chaque tour de simulation FAIRE :\n",
    "    - Réinitialiser la grille `environnement` (remettre à 0)\n",
    "\n",
    "    - SI nr_proie itération:\n",
    "        Faire apparaitre n proies\n",
    "\n",
    "    - SI nr_pred itération:\n",
    "        Faire apparaitre n predateurs\n",
    "\n",
    "    - POUR chaque proie DANS `tab_proie`(copie) :\n",
    "       - Déplacer la proie\n",
    "    FIN POUR\n",
    "\n",
    "    - POUR chaque prédateur DANS `tab_pred`(copie) :\n",
    "        - Déplacer le prédateur\n",
    "        - Vérifier s’il mange une proie, sinon on désincrémente sa faim\n",
    "        - SI faim == 0 (le prédateur meurt de faim):\n",
    "            On le supprime de tab_pred\n",
    "    FIN POUR\n",
    "\n",
    "\n",
    "    \n",
    "    - Mettre à jour la grille :\n",
    "        - Placer les proies restantes sur `environnement`\n",
    "        - Placer les prédateurs restants sur `environnement`\n",
    "\n",
    "    - Afficher la grille `environnement`\n",
    "\n",
    "FIN POUR"
   ]
  },
  {
   "cell_type": "markdown",
   "metadata": {},
   "source": [
    "## Les Prédateurs\n",
    "\n",
    "(insérer explication)"
   ]
  },
  {
   "cell_type": "raw",
   "metadata": {
    "vscode": {
     "languageId": "raw"
    }
   },
   "source": [
    "########## Pseudo code de la classe ##########\n"
   ]
  },
  {
   "cell_type": "markdown",
   "metadata": {},
   "source": [
    "## Les Proies\n",
    "\n",
    "(insérer explication)"
   ]
  },
  {
   "cell_type": "raw",
   "metadata": {
    "vscode": {
     "languageId": "raw"
    }
   },
   "source": [
    "########## Pseudo code de la classe ##########"
   ]
  }
 ],
 "metadata": {
  "language_info": {
   "name": "python"
  }
 },
 "nbformat": 4,
 "nbformat_minor": 2
}
