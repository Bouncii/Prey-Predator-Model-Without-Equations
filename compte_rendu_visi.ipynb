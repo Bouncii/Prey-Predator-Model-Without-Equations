{
 "cells": [
  {
   "cell_type": "markdown",
   "metadata": {},
   "source": [
    "# Projet visi Proie-Prédateur\n",
    "\n",
    "Voici un résumé de l'avancement du projet\n",
    "\n",
    "Premièrement, définissons quelques règles que notre environnement vas suivre:\n",
    "\n",
    "- Lors du mouvement des entités, les proies ont la priorité de mouvement sur les prédateurs, c'est à dire qu'ils se déplacerons et effecturons leurs action avant les prédateurs.\n",
    "\n",
    "\n",
    "- Les entités rebondissent sur les paroies et entre elles en prendrons une autre direction.\n",
    "\n",
    "- Une proie ne se dirigeras pas sur une case contenant un prédateur\n",
    "\n",
    "- En conséquence si toutes les cases autour des proies sont occupés (par un prédateur ou d'autres proies), la proie ne se déplacera pas. Cela peut également s'appliquer au prédateur dans les cas les plus rares (si entouré d'autres prédateurs)\n",
    "\n",
    "- L'apparition se fais aléatoirement sur la grille, si plus de places, l'entité n'apparait pas\n",
    "\n",
    "- Priorité sur l'apparition (les proies ont la priorité)"
   ]
  },
  {
   "cell_type": "markdown",
   "metadata": {},
   "source": [
    "## Programme Principale\n",
    "\n",
    "Le programme principale est là ou toutes les entités présentées ci-dessous seront implémentés dans l'environnement"
   ]
  },
  {
   "cell_type": "raw",
   "metadata": {
    "vscode": {
     "languageId": "raw"
    }
   },
   "source": [
    "\n",
    "\n",
    "# Création des entités (proies et prédateurs)\n",
    "Créer une liste `tab_proie` vide\n",
    "Créer une liste `tab_predateur` vide\n",
    "\n",
    "POUR i allant de 1 à `nb_proies_initiale` FAIRE :\n",
    "    Trouver une coordonnée vide dans `environnement`\n",
    "    SI une coordonnée est trouvée :\n",
    "        Ajouter une nouvelle Proie à `tab_proie`\n",
    "FIN POUR\n",
    "\n",
    "POUR j allant de 1 à `nb_predateurs_initiale` FAIRE :\n",
    "    Trouver une coordonnée vide dans `environnement`\n",
    "    SI une coordonnée est trouvée :\n",
    "        Ajouter un nouveau Prédateur à `tab_predateur`\n",
    "FIN POUR\n",
    "\n",
    "# Début de la simulation\n",
    "POUR chaque tour de simulation de 1 à `nb_itérations` FAIRE :\n",
    "\n",
    "    - Réinitialiser la grille `environnement` (remplir de 0)\n",
    "\n",
    "    - POUR chaque proie DANS `tab_proie` :\n",
    "        - Déplacer la proie en fonction de l’environnement et des prédateurs\n",
    "        - Afficher la proie sur la grille\n",
    "    FIN POUR\n",
    "\n",
    "    - POUR chaque prédateur DANS `tab_predateur` (copie pour sécurité) :\n",
    "        - Déplacer le prédateur en fonction de l’environnement et des proies\n",
    "        - Vérifier s’il mange une proie, sinon décrémenter sa faim\n",
    "        - SI faim == 0 :\n",
    "            Supprimer le prédateur de `tab_predateur`\n",
    "        - SI le prédateur est toujours vivant :\n",
    "            Afficher ses informations\n",
    "            Afficher le prédateur sur la grille\n",
    "    FIN POUR\n",
    "\n",
    "    ##### Phase de reproduction #####\n",
    "    \n",
    "    - SI c’est un tour de reproduction des proies :\n",
    "        - POUR chaque proie existante :\n",
    "            - Trouver une coordonnée vide dans `environnement`\n",
    "            - SI une coordonnée est trouvée :\n",
    "                Ajouter une nouvelle Proie à `tab_proie`\n",
    "        - Afficher toutes les proies mises à jour\n",
    "        - Afficher un message \"Reproduction des proies !\"\n",
    "    \n",
    "    - SI c’est un tour de reproduction des prédateurs :\n",
    "        - POUR chaque prédateur existant :\n",
    "            - Trouver une coordonnée vide dans `environnement`\n",
    "            - SI une coordonnée est trouvée :\n",
    "                Ajouter un nouveau Prédateur à `tab_predateur`\n",
    "        - Afficher tous les prédateurs mis à jour\n",
    "        - Afficher un message \"Reproduction des prédateurs !\"\n",
    "\n",
    "    ##### Fin de la phase de reproduction #####\n",
    "\n",
    "    - Afficher l’environnement mis à jour\n",
    "\n",
    "FIN POUR\n",
    "- Afficher les statistiques voulu"
   ]
  },
  {
   "cell_type": "markdown",
   "metadata": {},
   "source": [
    "## Les Prédateurs\n",
    "\n",
    "(insérer explication)"
   ]
  },
  {
   "cell_type": "raw",
   "metadata": {
    "vscode": {
     "languageId": "raw"
    }
   },
   "source": [
    "########## Pseudo code de la classe ##########\n"
   ]
  },
  {
   "cell_type": "markdown",
   "metadata": {},
   "source": [
    "## Les Proies\n",
    "\n",
    "(insérer explication)"
   ]
  },
  {
   "cell_type": "raw",
   "metadata": {
    "vscode": {
     "languageId": "raw"
    }
   },
   "source": [
    "########## Pseudo code de la classe ##########"
   ]
  }
 ],
 "metadata": {
  "language_info": {
   "name": "python"
  }
 },
 "nbformat": 4,
 "nbformat_minor": 2
}
